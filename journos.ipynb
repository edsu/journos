{
 "cells": [
  {
   "cell_type": "markdown",
   "metadata": {},
   "source": [
    "# journos\n",
    "\n",
    "This notebook briefly shows how to look for tweets from known journalists in the Twitter stream and in an existing dataset of tweets. It was used for a brief [twarc](https://github.com/edsu/twarc) demonstration.\n",
    "\n",
    "First we're going to build up a set of known journalists who are on Twitter. This list was compiled by [Nick Diakopoulos](https://twitter.com/ndiakopoulos) for his paper [Unfolding the Event Landscape on Twitter:\n",
    "Classification and Exploration of User Categories](http://www.nickdiakopoulos.com/wp-content/uploads/2011/07/dechoudhury-cscw2012.pdf). It is from 2012, so it's a bit stale now, but should at least demonstrate the basic idea."
   ]
  },
  {
   "cell_type": "code",
   "execution_count": null,
   "metadata": {
    "collapsed": true
   },
   "outputs": [],
   "source": [
    "journos = set()\n",
    "\n",
    "for line in open(\"journos.txt\"):\n",
    "    journos.add(line.strip().lower())"
   ]
  },
  {
   "cell_type": "code",
   "execution_count": null,
   "metadata": {
    "collapsed": false
   },
   "outputs": [],
   "source": [
    "len(journos)"
   ]
  },
  {
   "cell_type": "markdown",
   "metadata": {},
   "source": [
    "Now we'll import [twarc](http://github.com/edsu/twarc) so we can collect some data from Twitter."
   ]
  },
  {
   "cell_type": "code",
   "execution_count": null,
   "metadata": {
    "collapsed": false
   },
   "outputs": [],
   "source": [
    "import twarc"
   ]
  },
  {
   "cell_type": "markdown",
   "metadata": {},
   "source": [
    "Now go over to [apps.twitter.com](http://apps.twitter.com) and create an app so you can get some API keys. Fill them in below."
   ]
  },
  {
   "cell_type": "code",
   "execution_count": null,
   "metadata": {
    "collapsed": true
   },
   "outputs": [],
   "source": [
    "consumer_key = \"\"\n",
    "consumer_secret = \"\"\n",
    "access_token = \"\"\n",
    "access_token_secret = \"\""
   ]
  },
  {
   "cell_type": "markdown",
   "metadata": {},
   "source": [
    "With those in hand we can create a Twarc instance to connect to Twitter."
   ]
  },
  {
   "cell_type": "code",
   "execution_count": null,
   "metadata": {
    "collapsed": false
   },
   "outputs": [],
   "source": [
    "t = twarc.Twarc(consumer_key, consumer_secret, access_token, access_token_secret)"
   ]
  },
  {
   "cell_type": "markdown",
   "metadata": {},
   "source": [
    "Now lets ask Twitter for tweets matching something that might be in the news:"
   ]
  },
  {
   "cell_type": "code",
   "execution_count": null,
   "metadata": {
    "collapsed": false
   },
   "outputs": [],
   "source": [
    "for tweet in t.filter(\"trump,clinton,sanders\"):\n",
    "    if 'user' not in tweet:\n",
    "        continue\n",
    "    user = tweet['user']['screen_name'].lower()\n",
    "    if user in journos:\n",
    "        print(user, tweet['text'])"
   ]
  },
  {
   "cell_type": "markdown",
   "metadata": {
    "collapsed": true
   },
   "source": [
    "If you have a file of tweets you've already collected it's pretty much the same, but you have to read the file in and parse the JSON on each line."
   ]
  },
  {
   "cell_type": "code",
   "execution_count": null,
   "metadata": {
    "collapsed": true
   },
   "outputs": [],
   "source": [
    "for line in open(\"tweets.json\"):\n",
    "    tweet = json.loads(line)\n",
    "    if 'user' not in tweet:\n",
    "        continue\n",
    "    user = tweet['user']['screen_name'].lower()\n",
    "    if user in journos:\n",
    "        print(user, tweet['text'])"
   ]
  }
 ],
 "metadata": {
  "kernelspec": {
   "display_name": "Python 2",
   "language": "python",
   "name": "python2"
  },
  "language_info": {
   "codemirror_mode": {
    "name": "ipython",
    "version": 2
   },
   "file_extension": ".py",
   "mimetype": "text/x-python",
   "name": "python",
   "nbconvert_exporter": "python",
   "pygments_lexer": "ipython2",
   "version": "2.7.10"
  }
 },
 "nbformat": 4,
 "nbformat_minor": 0
}
